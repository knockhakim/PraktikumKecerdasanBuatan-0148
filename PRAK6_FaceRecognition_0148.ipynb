{
  "cells": [
    {
      "cell_type": "markdown",
      "source": [
        "## **FACE RECOGNITION USING CNN**\n",
        "# Pengenalan Wajah menggunakan Convolutional Neural Networks (CNN)\n",
        "# Menggunakan Dataset ORL_faces.npz"
      ],
      "metadata": {
        "id": "LdzLtDGwT4mi"
      },
      "id": "LdzLtDGwT4mi"
    },
    {
      "cell_type": "markdown",
      "id": "d6aff48c",
      "metadata": {
        "papermill": {
          "duration": 0.045321,
          "end_time": "2021-07-18T12:28:13.677369",
          "exception": false,
          "start_time": "2021-07-18T12:28:13.632048",
          "status": "completed"
        },
        "tags": [],
        "id": "d6aff48c"
      },
      "source": [
        "#**STEP 1 :**\n",
        "Pertama-tama, Anda harus memasukkan pustaka/libraries yang diperlukan:"
      ]
    },
    {
      "cell_type": "code",
      "execution_count": 1,
      "id": "910f6af2",
      "metadata": {
        "execution": {
          "iopub.execute_input": "2021-07-18T12:28:13.778564Z",
          "iopub.status.busy": "2021-07-18T12:28:13.777062Z",
          "iopub.status.idle": "2021-07-18T12:28:14.101707Z",
          "shell.execute_reply": "2021-07-18T12:28:14.101149Z",
          "shell.execute_reply.started": "2021-07-18T12:25:05.740352Z"
        },
        "papermill": {
          "duration": 0.379,
          "end_time": "2021-07-18T12:28:14.101849",
          "exception": false,
          "start_time": "2021-07-18T12:28:13.722849",
          "status": "completed"
        },
        "tags": [],
        "id": "910f6af2"
      },
      "outputs": [],
      "source": [
        "\n",
        "import os                                 #Mengimpor modul os yang digunakan untuk berinteraksi dengan sistem operasi, seperti mengakses file dan direktori.\n",
        "import sys                                #Mengimpor modul sys yang memberikan akses ke beberapa variabel dan fungsi yang secara langsung mempengaruhi interpreter Python.\n",
        "import numpy as np                        #untuk melakukan operasi numerik dan komputasi ilmiah.\n",
        "import pandas as pd                       #untuk analisis data dan manipulasi data.\n",
        "\n",
        "import matplotlib.pyplot as plt           # untuk membuat plot dan visualisasi data.\n",
        "%matplotlib inline\n",
        "import cv2                                # untuk pengolahan citra dan komputer visi.\n",
        "\n",
        "from pylab import rcParams                #Mengimpor rcParams dari modul pylab. rcParams adalah pengaturan parameter gambar untuk matplotlib.\n",
        "rcParams['figure.figsize']= 12,5          #Mengatur ukuran default untuk gambar yang dihasilkan oleh matplotlib menjadi 12 inci lebar dan 5 inci tinggi.\n",
        "rcParams['xtick.labelsize']= 12           #Mengatur ukuran default untuk label sumbu x pada plot menjadi 12.\n",
        "rcParams['ytick.labelsize']= 12           #Mengatur ukuran default untuk label sumbu y pada plot menjadi 12.\n",
        "rcParams['axes.labelsize']= 12            #Mengatur ukuran default untuk label sumbu pada plot menjadi 12.\n",
        "\n",
        "import warnings                           #untuk mengendalikan tampilan peringatan (warning) yang dihasilkan oleh Python.\n",
        "warnings.filterwarnings(action='ignore',category=DeprecationWarning) #Mengabaikan peringatan DeprecationWarning yang biasanya muncul ketika kita menggunakan fitur yang sudah tidak direkomendasikan dalam versi Python yang lebih baru.\n",
        "warnings.filterwarnings(action='ignore',category=FutureWarning) #Mengabaikan peringatan FutureWarning yang biasanya muncul ketika kita menggunakan fitur yang akan diubah atau dihapus dalam versi Python yang akan datang."
      ]
    },
    {
      "cell_type": "markdown",
      "id": "6046e50c",
      "metadata": {
        "papermill": {
          "duration": 0.04524,
          "end_time": "2021-07-18T12:28:14.284269",
          "exception": false,
          "start_time": "2021-07-18T12:28:14.239029",
          "status": "completed"
        },
        "tags": [],
        "id": "6046e50c"
      },
      "source": [
        "#**STEP 2:**\n",
        "LOADING DATA"
      ]
    },
    {
      "cell_type": "code",
      "execution_count": 3,
      "id": "df753b9b",
      "metadata": {
        "execution": {
          "iopub.execute_input": "2021-07-18T12:28:14.380544Z",
          "iopub.status.busy": "2021-07-18T12:28:14.379769Z",
          "iopub.status.idle": "2021-07-18T12:28:14.408688Z",
          "shell.execute_reply": "2021-07-18T12:28:14.407906Z",
          "shell.execute_reply.started": "2021-07-18T12:25:05.755535Z"
        },
        "papermill": {
          "duration": 0.079283,
          "end_time": "2021-07-18T12:28:14.408852",
          "exception": false,
          "start_time": "2021-07-18T12:28:14.329569",
          "status": "completed"
        },
        "tags": [],
        "id": "df753b9b"
      },
      "outputs": [],
      "source": [
        "#load the data -- > .npz format\n",
        "#berisi data wajah dari dataset ORL Faces.\n",
        "#Fungsi np.load() digunakan untuk memuat file numpy (.npz) yang berisi larik atau objek Python yang disimpan sebelumnya\n",
        "\n",
        "data = np.load('ORL_faces.npz')"
      ]
    },
    {
      "cell_type": "code",
      "execution_count": 4,
      "id": "85841d27",
      "metadata": {
        "execution": {
          "iopub.execute_input": "2021-07-18T12:28:14.510676Z",
          "iopub.status.busy": "2021-07-18T12:28:14.509897Z",
          "iopub.status.idle": "2021-07-18T12:28:14.513095Z",
          "shell.execute_reply": "2021-07-18T12:28:14.513589Z",
          "shell.execute_reply.started": "2021-07-18T12:25:05.769644Z"
        },
        "papermill": {
          "duration": 0.058212,
          "end_time": "2021-07-18T12:28:14.513777",
          "exception": false,
          "start_time": "2021-07-18T12:28:14.455565",
          "status": "completed"
        },
        "tags": [],
        "colab": {
          "base_uri": "https://localhost:8080/"
        },
        "id": "85841d27",
        "outputId": "02332111-2018-4664-9ec3-b983cf76e1cb"
      },
      "outputs": [
        {
          "output_type": "execute_result",
          "data": {
            "text/plain": [
              "numpy.lib.npyio.NpzFile"
            ]
          },
          "metadata": {},
          "execution_count": 4
        }
      ],
      "source": [
        "\n",
        "#Hasilnya akan memberikan informasi tentang jenis objek yang dihasilkan dari pemanggilan fungsi np.load().\n",
        "type(data)"
      ]
    },
    {
      "cell_type": "code",
      "execution_count": 5,
      "id": "7bc1996e",
      "metadata": {
        "execution": {
          "iopub.execute_input": "2021-07-18T12:28:14.610848Z",
          "iopub.status.busy": "2021-07-18T12:28:14.610225Z",
          "iopub.status.idle": "2021-07-18T12:28:14.616020Z",
          "shell.execute_reply": "2021-07-18T12:28:14.616548Z",
          "shell.execute_reply.started": "2021-07-18T12:25:05.782219Z"
        },
        "papermill": {
          "duration": 0.055507,
          "end_time": "2021-07-18T12:28:14.616711",
          "exception": false,
          "start_time": "2021-07-18T12:28:14.561204",
          "status": "completed"
        },
        "tags": [],
        "colab": {
          "base_uri": "https://localhost:8080/"
        },
        "id": "7bc1996e",
        "outputId": "315d598c-e34a-46f5-cd9b-83c68161162c"
      },
      "outputs": [
        {
          "output_type": "execute_result",
          "data": {
            "text/plain": [
              "['testX', 'testY', 'trainX', 'trainY']"
            ]
          },
          "metadata": {},
          "execution_count": 5
        }
      ],
      "source": [
        "#Dengan menjalankan sorted(data.files), akan mendapatkan daftar nama variabel atau array yang ada dalam file 'ORL_faces.npz'.\n",
        "sorted(data.files)"
      ]
    },
    {
      "cell_type": "markdown",
      "id": "3e5c6855",
      "metadata": {
        "papermill": {
          "duration": 0.045867,
          "end_time": "2021-07-18T12:28:14.708617",
          "exception": false,
          "start_time": "2021-07-18T12:28:14.662750",
          "status": "completed"
        },
        "tags": [],
        "id": "3e5c6855"
      },
      "source": [
        "_Data sudah dibagi menjadi train dan test set. Untuk membangun model, kita akan membagi train set menjadi traina dan dev set. Berdasarkan model konvergen terbaik, prediksi akan dilakukan pada set tes_"
      ]
    },
    {
      "cell_type": "markdown",
      "id": "aaef9fa1",
      "metadata": {
        "papermill": {
          "duration": 0.04573,
          "end_time": "2021-07-18T12:28:14.800489",
          "exception": false,
          "start_time": "2021-07-18T12:28:14.754759",
          "status": "completed"
        },
        "tags": [],
        "id": "aaef9fa1"
      },
      "source": [
        "<a name='3-1'></a>\n",
        "### _3.1 - Eksplorasi dasar  file npz_"
      ]
    },
    {
      "cell_type": "code",
      "execution_count": 6,
      "id": "6baa3ec1",
      "metadata": {
        "execution": {
          "iopub.execute_input": "2021-07-18T12:28:14.896394Z",
          "iopub.status.busy": "2021-07-18T12:28:14.895757Z",
          "iopub.status.idle": "2021-07-18T12:28:15.244210Z",
          "shell.execute_reply": "2021-07-18T12:28:15.243380Z",
          "shell.execute_reply.started": "2021-07-18T12:25:05.796375Z"
        },
        "papermill": {
          "duration": 0.397567,
          "end_time": "2021-07-18T12:28:15.244358",
          "exception": false,
          "start_time": "2021-07-18T12:28:14.846791",
          "status": "completed"
        },
        "tags": [],
        "colab": {
          "base_uri": "https://localhost:8080/"
        },
        "id": "6baa3ec1",
        "outputId": "9d9eb0cf-f494-4bad-8adb-7546f8ea99b2"
      },
      "outputs": [
        {
          "output_type": "execute_result",
          "data": {
            "text/plain": [
              "array([[ 48.,  49.,  45., ...,  47.,  46.,  46.],\n",
              "       [ 60.,  60.,  62., ...,  32.,  34.,  34.],\n",
              "       [ 39.,  44.,  53., ...,  29.,  26.,  29.],\n",
              "       ...,\n",
              "       [114., 117., 114., ...,  98.,  96.,  98.],\n",
              "       [105., 105., 107., ...,  54.,  47.,  41.],\n",
              "       [116., 114., 117., ...,  95., 100., 101.]])"
            ]
          },
          "metadata": {},
          "execution_count": 6
        }
      ],
      "source": [
        "#data['trainX'] digunakan untuk mengakses variabel atau array dengan nama 'trainX' yang tersimpan dalam file 'ORL_faces.npz'.\n",
        "#Akan mendapatkan nilai dari variabel atau array 'trainX' yang tersimpan dalam file tersebut. Nilai ini mungkin merupakan data pelatihan (training data) untuk model pengenalan wajah yang sedang di bangun.\n",
        "data['trainX']"
      ]
    },
    {
      "cell_type": "code",
      "execution_count": 7,
      "id": "77031608",
      "metadata": {
        "execution": {
          "iopub.execute_input": "2021-07-18T12:28:15.347802Z",
          "iopub.status.busy": "2021-07-18T12:28:15.347125Z",
          "iopub.status.idle": "2021-07-18T12:28:15.352235Z",
          "shell.execute_reply": "2021-07-18T12:28:15.352831Z",
          "shell.execute_reply.started": "2021-07-18T12:25:05.843310Z"
        },
        "papermill": {
          "duration": 0.061389,
          "end_time": "2021-07-18T12:28:15.353057",
          "exception": false,
          "start_time": "2021-07-18T12:28:15.291668",
          "status": "completed"
        },
        "tags": [],
        "colab": {
          "base_uri": "https://localhost:8080/"
        },
        "id": "77031608",
        "outputId": "a5d2e4ba-a908-46f8-b275-91169ea23a5c"
      },
      "outputs": [
        {
          "output_type": "execute_result",
          "data": {
            "text/plain": [
              "array([ 0,  0,  0,  0,  0,  0,  0,  0,  0,  0,  0,  0,  1,  1,  1,  1,  1,\n",
              "        1,  1,  1,  1,  1,  1,  1,  2,  2,  2,  2,  2,  2,  2,  2,  2,  2,\n",
              "        2,  2,  3,  3,  3,  3,  3,  3,  3,  3,  3,  3,  3,  3,  4,  4,  4,\n",
              "        4,  4,  4,  4,  4,  4,  4,  4,  4,  5,  5,  5,  5,  5,  5,  5,  5,\n",
              "        5,  5,  5,  5,  6,  6,  6,  6,  6,  6,  6,  6,  6,  6,  6,  6,  7,\n",
              "        7,  7,  7,  7,  7,  7,  7,  7,  7,  7,  7,  8,  8,  8,  8,  8,  8,\n",
              "        8,  8,  8,  8,  8,  8,  9,  9,  9,  9,  9,  9,  9,  9,  9,  9,  9,\n",
              "        9, 10, 10, 10, 10, 10, 10, 10, 10, 10, 10, 10, 10, 11, 11, 11, 11,\n",
              "       11, 11, 11, 11, 11, 11, 11, 11, 12, 12, 12, 12, 12, 12, 12, 12, 12,\n",
              "       12, 12, 12, 13, 13, 13, 13, 13, 13, 13, 13, 13, 13, 13, 13, 14, 14,\n",
              "       14, 14, 14, 14, 14, 14, 14, 14, 14, 14, 15, 15, 15, 15, 15, 15, 15,\n",
              "       15, 15, 15, 15, 15, 16, 16, 16, 16, 16, 16, 16, 16, 16, 16, 16, 16,\n",
              "       17, 17, 17, 17, 17, 17, 17, 17, 17, 17, 17, 17, 18, 18, 18, 18, 18,\n",
              "       18, 18, 18, 18, 18, 18, 18, 19, 19, 19, 19, 19, 19, 19, 19, 19, 19,\n",
              "       19, 19], dtype=uint8)"
            ]
          },
          "metadata": {},
          "execution_count": 7
        }
      ],
      "source": [
        "#'trainY' akan berisi label atau kelas yang mengidentifikasi setiap sampel wajah dalam 'trainX'. \n",
        "#Ini penting dalam proses pelatihan model pengenalan wajah untuk mempelajari korelasi antara wajah dan label yang sesuai.\n",
        "data['trainY']"
      ]
    },
    {
      "cell_type": "markdown",
      "id": "a6b7026d",
      "metadata": {
        "papermill": {
          "duration": 0.04648,
          "end_time": "2021-07-18T12:28:15.446715",
          "exception": false,
          "start_time": "2021-07-18T12:28:15.400235",
          "status": "completed"
        },
        "tags": [],
        "id": "a6b7026d"
      },
      "source": [
        "_Label-label pada folder tes menunjukkan bahwa ada 20 wajah dari 20 orang. Kedua, konten trainY mengindikasikan bahwa data tidak diacak. Hal ini dapat dilakukan pada saat membagi data menjadi train dan dev set sehingga model dapat menggeneralisasi dengan baik terhadap variasi dan tidak mempelajari pola dari cara data disusun dan disimpan_."
      ]
    },
    {
      "cell_type": "code",
      "execution_count": 8,
      "id": "eef2c150",
      "metadata": {
        "execution": {
          "iopub.execute_input": "2021-07-18T12:28:15.543638Z",
          "iopub.status.busy": "2021-07-18T12:28:15.543018Z",
          "iopub.status.idle": "2021-07-18T12:28:15.595989Z",
          "shell.execute_reply": "2021-07-18T12:28:15.596496Z",
          "shell.execute_reply.started": "2021-07-18T12:25:05.851293Z"
        },
        "papermill": {
          "duration": 0.103124,
          "end_time": "2021-07-18T12:28:15.596673",
          "exception": false,
          "start_time": "2021-07-18T12:28:15.493549",
          "status": "completed"
        },
        "tags": [],
        "colab": {
          "base_uri": "https://localhost:8080/"
        },
        "id": "eef2c150",
        "outputId": "f03ee2a0-2955-4878-c71e-56a2c0394ec3"
      },
      "outputs": [
        {
          "output_type": "execute_result",
          "data": {
            "text/plain": [
              "(numpy.ndarray, numpy.ndarray)"
            ]
          },
          "metadata": {},
          "execution_count": 8
        }
      ],
      "source": [
        "#Untuk mengetahui jenis (type) dari data['trainX'] dan data['trainY']\n",
        "#memberikan informasi tentang jenis objek yang disimpan dalam data['trainX'] dan data['trainY'].\n",
        "type(data['trainX']), type(data['trainY'])"
      ]
    },
    {
      "cell_type": "code",
      "execution_count": 9,
      "id": "6709688b",
      "metadata": {
        "execution": {
          "iopub.execute_input": "2021-07-18T12:28:15.694369Z",
          "iopub.status.busy": "2021-07-18T12:28:15.693695Z",
          "iopub.status.idle": "2021-07-18T12:28:15.743899Z",
          "shell.execute_reply": "2021-07-18T12:28:15.743225Z",
          "shell.execute_reply.started": "2021-07-18T12:25:05.900035Z"
        },
        "papermill": {
          "duration": 0.100427,
          "end_time": "2021-07-18T12:28:15.744049",
          "exception": false,
          "start_time": "2021-07-18T12:28:15.643622",
          "status": "completed"
        },
        "tags": [],
        "colab": {
          "base_uri": "https://localhost:8080/"
        },
        "id": "6709688b",
        "outputId": "97a81c80-fc0d-460c-d7ee-6a1f70f0bae6"
      },
      "outputs": [
        {
          "output_type": "execute_result",
          "data": {
            "text/plain": [
              "((240, 10304), (240,))"
            ]
          },
          "metadata": {},
          "execution_count": 9
        }
      ],
      "source": [
        "#untuk memperoleh dimensi atau bentuk dari 'trainX' dan 'trainY' dalam dataset\n",
        "#data['trainX'].shape akan mengembalikan bentuk atau dimensi dari array 'trainX'\n",
        "#data['trainY'].shape, yang akan mengembalikan bentuk atau dimensi dari array 'trainY'.\n",
        "data['trainX'].shape, data['trainY'].shape"
      ]
    },
    {
      "cell_type": "markdown",
      "id": "f9f0aaad",
      "metadata": {
        "papermill": {
          "duration": 0.04837,
          "end_time": "2021-07-18T12:28:15.840038",
          "exception": false,
          "start_time": "2021-07-18T12:28:15.791668",
          "status": "completed"
        },
        "tags": [],
        "id": "f9f0aaad"
      },
      "source": [
        "_Sesuai deskripsi, setiap gambar berukuran 112 x 92. Kedua, trainX berisi 240 gambar seperti itu dan 160 gambar sisanya adalah bagian dari testX. Satu-satunya cara untuk memvisualisasikan gambar-gambar ini adalah dengan membentuk ulang susunan npzfiles ke dalam bentuk 112x92. 112*92 = 10304 yang sama dengan nilai kedua dalam bentuk data['latihX']. Oleh karena itu, kanal warna adalah 1 yang berarti semua gambar adalah gambar grayscale._"
      ]
    },
    {
      "cell_type": "markdown",
      "id": "3dcbaf8d",
      "metadata": {
        "execution": {
          "iopub.execute_input": "2021-07-13T08:46:37.427148Z",
          "iopub.status.busy": "2021-07-13T08:46:37.42646Z",
          "iopub.status.idle": "2021-07-13T08:46:37.432543Z",
          "shell.execute_reply": "2021-07-13T08:46:37.431095Z",
          "shell.execute_reply.started": "2021-07-13T08:46:37.427088Z"
        },
        "papermill": {
          "duration": 0.046923,
          "end_time": "2021-07-18T12:28:15.934151",
          "exception": false,
          "start_time": "2021-07-18T12:28:15.887228",
          "status": "completed"
        },
        "tags": [],
        "id": "3dcbaf8d"
      },
      "source": [
        "<a name='3-2'></a>\n",
        "### _3.2 - Membentuk ulang data dan memplot gambar acak__"
      ]
    },
    {
      "cell_type": "code",
      "execution_count": 10,
      "id": "91c9040e",
      "metadata": {
        "execution": {
          "iopub.execute_input": "2021-07-18T12:28:16.038781Z",
          "iopub.status.busy": "2021-07-18T12:28:16.038037Z",
          "iopub.status.idle": "2021-07-18T12:28:16.404688Z",
          "shell.execute_reply": "2021-07-18T12:28:16.405214Z",
          "shell.execute_reply.started": "2021-07-18T12:25:05.982226Z"
        },
        "papermill": {
          "duration": 0.423974,
          "end_time": "2021-07-18T12:28:16.405391",
          "exception": false,
          "start_time": "2021-07-18T12:28:15.981417",
          "status": "completed"
        },
        "tags": [],
        "id": "91c9040e"
      },
      "outputs": [],
      "source": [
        "#untuk mengkonfigurasi dimensi gambar saat membangun atau memproses model pengenalan wajah\n",
        "#n_rows mewakili jumlah baris (tinggi) dari gambar wajah, \n",
        "#n_cols mewakili jumlah kolom (lebar) dari gambar wajah, \n",
        "#n_channels mewakili jumlah saluran warna pada gambar..\n",
        "n_rows = 112\n",
        "n_cols = 92\n",
        "n_channels = 1\n",
        "\n",
        "#trainX = data['trainX']\n",
        "#testX = data['testX']\n",
        "\n",
        "#trainX = np.array(list(map(lambda p: cv2.cvtColor(p, cv2.COLOR_GRAY2BGR), np.float32(data['trainX']))))/255.\n",
        "#testX = np.array(list(map(lambda p: cv2.cvtColor(p, cv2.COLOR_GRAY2BGR), np.float32(data['testX']))))/255.\n",
        "\n",
        "#trainX =  np.reshape(trainX,newshape=(trainX.shape[0],n_rows,n_cols,3))\n",
        "#testX =  np.reshape(testX,newshape=(testX.shape[0],n_rows,n_cols,3))\n",
        "\n",
        "trainX =  np.reshape(data['trainX'],newshape=(data['trainX'].shape[0],n_rows,n_cols))\n",
        "testX =  np.reshape(data['testX'],newshape=(data['testX'].shape[0],n_rows,n_cols))\n",
        "\n",
        "trainX = np.array(list(map(lambda p: cv2.cvtColor(p, cv2.COLOR_GRAY2BGR), np.float32(trainX))))/255.\n",
        "testX = np.array(list(map(lambda p: cv2.cvtColor(p, cv2.COLOR_GRAY2BGR), np.float32(testX))))/255.\n",
        "\n",
        "\n",
        "trainY = data['trainY']\n",
        "testY = data['testY']"
      ]
    },
    {
      "cell_type": "code",
      "execution_count": 11,
      "id": "891b9153",
      "metadata": {
        "execution": {
          "iopub.execute_input": "2021-07-18T12:28:16.511351Z",
          "iopub.status.busy": "2021-07-18T12:28:16.510630Z",
          "iopub.status.idle": "2021-07-18T12:28:16.515388Z",
          "shell.execute_reply": "2021-07-18T12:28:16.514661Z",
          "shell.execute_reply.started": "2021-07-18T12:25:06.135512Z"
        },
        "papermill": {
          "duration": 0.059021,
          "end_time": "2021-07-18T12:28:16.515551",
          "exception": false,
          "start_time": "2021-07-18T12:28:16.456530",
          "status": "completed"
        },
        "tags": [],
        "colab": {
          "base_uri": "https://localhost:8080/"
        },
        "id": "891b9153",
        "outputId": "bfbc58b8-ce10-43f3-d4b2-b76cfd3de27d"
      },
      "outputs": [
        {
          "output_type": "execute_result",
          "data": {
            "text/plain": [
              "((240, 112, 92, 3), (160, 112, 92, 3))"
            ]
          },
          "metadata": {},
          "execution_count": 11
        }
      ],
      "source": [
        "#mendapatkan bentuk atau dimensi dari array trainX dan testX. Bentuk ini menggambarkan jumlah baris dan kolom dalam masing-masing array.\n",
        "trainX.shape, testX.shape"
      ]
    },
    {
      "cell_type": "markdown",
      "id": "9ac1ce7b",
      "metadata": {
        "papermill": {
          "duration": 0.048499,
          "end_time": "2021-07-18T12:28:16.613108",
          "exception": false,
          "start_time": "2021-07-18T12:28:16.564609",
          "status": "completed"
        },
        "tags": [],
        "id": "9ac1ce7b"
      },
      "source": [
        "<a name='3-3'></a>\n",
        "### _3.3 - Memvisualisasikan wajah_"
      ]
    },
    {
      "cell_type": "code",
      "execution_count": 14,
      "id": "e8b80a7c",
      "metadata": {
        "execution": {
          "iopub.execute_input": "2021-07-18T12:28:16.734898Z",
          "iopub.status.busy": "2021-07-18T12:28:16.734156Z",
          "iopub.status.idle": "2021-07-18T12:28:17.158754Z",
          "shell.execute_reply": "2021-07-18T12:28:17.158160Z",
          "shell.execute_reply.started": "2021-07-18T12:25:06.143979Z"
        },
        "papermill": {
          "duration": 0.497181,
          "end_time": "2021-07-18T12:28:17.158944",
          "exception": false,
          "start_time": "2021-07-18T12:28:16.661763",
          "status": "completed"
        },
        "tags": [],
        "colab": {
          "base_uri": "https://localhost:8080/",
          "height": 455
        },
        "id": "e8b80a7c",
        "outputId": "484d12f9-9494-4765-e69f-ef6d29b10f5e"
      },
      "outputs": [
        {
          "output_type": "display_data",
          "data": {
            "text/plain": [
              "<Figure size 1200x500 with 4 Axes>"
            ],
            "image/png": "[encoded data removed]"
          },
          "metadata": {}
        }
      ],
      "source": [
        "#menghasilkan plot dari empat gambar wajah yang diambil dari trainX dengan menggunakan nilai acak n dan delta.\n",
        "delta = 5\n",
        "n = np.random.randint(low=0,high=trainX.shape[0]- 2*delta,dtype=int)\n",
        "\n",
        "#plot the faces \n",
        "plt.subplot(2,2,1)       #Mengatur subplot pertama sebagai posisi gambar pertama dalam grid 2x2.\n",
        "plt.imshow(trainX[n])\n",
        "plt.subplot(2,2,2)       #Mengatur subplot kedua sebagai posisi gambar kedua dalam grid 2x2.\n",
        "plt.imshow(trainX[n+delta])\n",
        "plt.subplot(2,2,3)       #Mengatur subplot ketiga sebagai posisi gambar ketiga dalam grid 2x2.\n",
        "plt.imshow(trainX[n-delta])\n",
        "plt.subplot(2,2,4)       #Mengatur subplot keempat sebagai posisi gambar keempat dalam grid 2x2.\n",
        "plt.imshow(trainX[n+delta*2])\n",
        "plt.show()"
      ]
    },
    {
      "cell_type": "markdown",
      "id": "96e01e24",
      "metadata": {
        "papermill": {
          "duration": 0.051062,
          "end_time": "2021-07-18T12:28:17.262105",
          "exception": false,
          "start_time": "2021-07-18T12:28:17.211043",
          "status": "completed"
        },
        "tags": [],
        "id": "96e01e24"
      },
      "source": [
        "### _Membagi data menjadi data latih dan data validasi(SPLIT)_"
      ]
    },
    {
      "cell_type": "code",
      "execution_count": 15,
      "id": "2ee190ec",
      "metadata": {
        "execution": {
          "iopub.execute_input": "2021-07-18T12:28:17.370987Z",
          "iopub.status.busy": "2021-07-18T12:28:17.370140Z",
          "iopub.status.idle": "2021-07-18T12:28:18.443093Z",
          "shell.execute_reply": "2021-07-18T12:28:18.442379Z",
          "shell.execute_reply.started": "2021-07-18T12:25:06.509739Z"
        },
        "papermill": {
          "duration": 1.129929,
          "end_time": "2021-07-18T12:28:18.443254",
          "exception": false,
          "start_time": "2021-07-18T12:28:17.313325",
          "status": "completed"
        },
        "tags": [],
        "id": "2ee190ec"
      },
      "outputs": [],
      "source": [
        "# untuk membagi data pelatihan (trainX dan trainY) menjadi subset pelatihan (X_train dan y_train) dan subset validasi (X_valid dan y_valid).\n",
        "from sklearn.model_selection import train_test_split\n",
        "seed = 51\n",
        "test_size = 0.1\n",
        "X_train, X_valid, y_train, y_valid = train_test_split(trainX,trainY,random_state=seed,test_size=test_size)\n",
        "#akan memiliki empat variabel: X_train (subset pelatihan dari trainX), X_valid (subset validasi dari trainX), y_train (subset pelatihan dari trainY), dan y_valid (subset validasi dari trainY)"
      ]
    },
    {
      "cell_type": "code",
      "execution_count": 16,
      "id": "597a6f33",
      "metadata": {
        "execution": {
          "iopub.execute_input": "2021-07-18T12:28:18.553896Z",
          "iopub.status.busy": "2021-07-18T12:28:18.552826Z",
          "iopub.status.idle": "2021-07-18T12:28:18.558111Z",
          "shell.execute_reply": "2021-07-18T12:28:18.557594Z",
          "shell.execute_reply.started": "2021-07-18T12:25:06.527439Z"
        },
        "papermill": {
          "duration": 0.062763,
          "end_time": "2021-07-18T12:28:18.558254",
          "exception": false,
          "start_time": "2021-07-18T12:28:18.495491",
          "status": "completed"
        },
        "tags": [],
        "colab": {
          "base_uri": "https://localhost:8080/"
        },
        "id": "597a6f33",
        "outputId": "9f9aaa04-9567-4dec-9fe0-c73dab9d01c8"
      },
      "outputs": [
        {
          "output_type": "execute_result",
          "data": {
            "text/plain": [
              "((216, 112, 92, 3), (24, 112, 92, 3))"
            ]
          },
          "metadata": {},
          "execution_count": 16
        }
      ],
      "source": [
        "#untuk mendapatkan dimensi dari X_train dan X_valid dalam dataset \n",
        "X_train.shape, X_valid.shape"
      ]
    },
    {
      "cell_type": "code",
      "execution_count": 18,
      "id": "3282f451",
      "metadata": {
        "execution": {
          "iopub.execute_input": "2021-07-18T12:28:18.666985Z",
          "iopub.status.busy": "2021-07-18T12:28:18.666301Z",
          "iopub.status.idle": "2021-07-18T12:28:18.669290Z",
          "shell.execute_reply": "2021-07-18T12:28:18.669730Z",
          "shell.execute_reply.started": "2021-07-18T12:25:06.534626Z"
        },
        "papermill": {
          "duration": 0.059367,
          "end_time": "2021-07-18T12:28:18.669936",
          "exception": false,
          "start_time": "2021-07-18T12:28:18.610569",
          "status": "completed"
        },
        "tags": [],
        "id": "3282f451"
      },
      "outputs": [],
      "source": [
        "#digunakan untuk menguji kinerja model setelah dilatih.\n",
        "X_test = testX"
      ]
    },
    {
      "cell_type": "code",
      "execution_count": 19,
      "id": "1ff14fbd",
      "metadata": {
        "execution": {
          "iopub.execute_input": "2021-07-18T12:28:18.776959Z",
          "iopub.status.busy": "2021-07-18T12:28:18.776303Z",
          "iopub.status.idle": "2021-07-18T12:28:18.779399Z",
          "shell.execute_reply": "2021-07-18T12:28:18.779930Z",
          "shell.execute_reply.started": "2021-07-18T12:25:06.548914Z"
        },
        "papermill": {
          "duration": 0.059364,
          "end_time": "2021-07-18T12:28:18.780106",
          "exception": false,
          "start_time": "2021-07-18T12:28:18.720742",
          "status": "completed"
        },
        "tags": [],
        "id": "1ff14fbd"
      },
      "outputs": [],
      "source": [
        "#berisi label atau kelas yang mengidentifikasi setiap sampel wajah dalam testX.\n",
        "y_test = testY"
      ]
    },
    {
      "cell_type": "code",
      "execution_count": 20,
      "id": "c2ed4484",
      "metadata": {
        "execution": {
          "iopub.execute_input": "2021-07-18T12:28:18.885118Z",
          "iopub.status.busy": "2021-07-18T12:28:18.884161Z",
          "iopub.status.idle": "2021-07-18T12:28:18.889816Z",
          "shell.execute_reply": "2021-07-18T12:28:18.890295Z",
          "shell.execute_reply.started": "2021-07-18T12:25:06.563431Z"
        },
        "papermill": {
          "duration": 0.059783,
          "end_time": "2021-07-18T12:28:18.890464",
          "exception": false,
          "start_time": "2021-07-18T12:28:18.830681",
          "status": "completed"
        },
        "tags": [],
        "colab": {
          "base_uri": "https://localhost:8080/"
        },
        "id": "c2ed4484",
        "outputId": "0d7ebbfb-dd72-4234-f497-cdfa9b763f73"
      },
      "outputs": [
        {
          "output_type": "execute_result",
          "data": {
            "text/plain": [
              "4"
            ]
          },
          "metadata": {},
          "execution_count": 20
        }
      ],
      "source": [
        "#untuk mendapatkan label atau kelas yang sesuai dengan sampel wajah pertama dalam X_train dalam dataset\n",
        "y_train[0] "
      ]
    },
    {
      "cell_type": "markdown",
      "id": "510220ca",
      "metadata": {
        "execution": {
          "iopub.execute_input": "2021-07-14T05:07:31.553125Z",
          "iopub.status.busy": "2021-07-14T05:07:31.552745Z",
          "iopub.status.idle": "2021-07-14T05:07:31.841512Z",
          "shell.execute_reply": "2021-07-14T05:07:31.840314Z",
          "shell.execute_reply.started": "2021-07-14T05:07:31.553093Z"
        },
        "papermill": {
          "duration": 0.050727,
          "end_time": "2021-07-18T12:28:18.992175",
          "exception": false,
          "start_time": "2021-07-18T12:28:18.941448",
          "status": "completed"
        },
        "tags": [],
        "id": "510220ca"
      },
      "source": [
        "<a name='4'></a>\n",
        "## _4 -  1: Generate Embeddings menggunakan FaceNet_\n",
        "\n"
      ]
    },
    {
      "cell_type": "code",
      "execution_count": 24,
      "id": "722f6257",
      "metadata": {
        "execution": {
          "iopub.execute_input": "2021-07-18T12:28:19.100314Z",
          "iopub.status.busy": "2021-07-18T12:28:19.099419Z",
          "iopub.status.idle": "2021-07-18T12:28:31.373174Z",
          "shell.execute_reply": "2021-07-18T12:28:31.372549Z",
          "shell.execute_reply.started": "2021-07-18T12:25:06.578808Z"
        },
        "papermill": {
          "duration": 12.330193,
          "end_time": "2021-07-18T12:28:31.373349",
          "exception": false,
          "start_time": "2021-07-18T12:28:19.043156",
          "status": "completed"
        },
        "tags": [],
        "colab": {
          "base_uri": "https://localhost:8080/",
          "height": 381
        },
        "id": "722f6257",
        "outputId": "cd3eb4db-6ae2-483c-d850-e6b6f6601b59"
      },
      "outputs": [
        {
          "output_type": "error",
          "ename": "ValueError",
          "evalue": "ignored",
          "traceback": [
            "\u001b[0;31m---------------------------------------------------------------------------\u001b[0m",
            "\u001b[0;31mValueError\u001b[0m                                Traceback (most recent call last)",
            "\u001b[0;32m<ipython-input-24-316b85b8223c>\u001b[0m in \u001b[0;36m<cell line: 4>\u001b[0;34m()\u001b[0m\n\u001b[1;32m      2\u001b[0m \u001b[0;34m\u001b[0m\u001b[0m\n\u001b[1;32m      3\u001b[0m \u001b[0;32mfrom\u001b[0m \u001b[0mkeras\u001b[0m\u001b[0;34m.\u001b[0m\u001b[0mmodels\u001b[0m \u001b[0;32mimport\u001b[0m \u001b[0mload_model\u001b[0m \u001b[0;31m#Fungsi ini digunakan untuk memuat model yang telah disimpan sebelumnya.\u001b[0m\u001b[0;34m\u001b[0m\u001b[0;34m\u001b[0m\u001b[0m\n\u001b[0;32m----> 4\u001b[0;31m \u001b[0mmodel\u001b[0m \u001b[0;34m=\u001b[0m \u001b[0mload_model\u001b[0m \u001b[0;34m(\u001b[0m\u001b[0;34m'facenet_keras.h5'\u001b[0m\u001b[0;34m)\u001b[0m \u001b[0;31m#lokasi file model yang akan dimuat.\u001b[0m\u001b[0;34m\u001b[0m\u001b[0;34m\u001b[0m\u001b[0m\n\u001b[0m\u001b[1;32m      5\u001b[0m \u001b[0mprint\u001b[0m\u001b[0;34m(\u001b[0m\u001b[0mmodel\u001b[0m\u001b[0;34m.\u001b[0m\u001b[0minputs\u001b[0m\u001b[0;34m)\u001b[0m \u001b[0;31m#Mencetak input model\u001b[0m\u001b[0;34m\u001b[0m\u001b[0;34m\u001b[0m\u001b[0m\n\u001b[1;32m      6\u001b[0m \u001b[0mprint\u001b[0m\u001b[0;34m(\u001b[0m\u001b[0mmodel\u001b[0m\u001b[0;34m.\u001b[0m\u001b[0moutputs\u001b[0m\u001b[0;34m)\u001b[0m \u001b[0;31m#mencetak daftar output model\u001b[0m\u001b[0;34m\u001b[0m\u001b[0;34m\u001b[0m\u001b[0m\n",
            "\u001b[0;32m/usr/local/lib/python3.10/dist-packages/keras/saving/saving_api.py\u001b[0m in \u001b[0;36mload_model\u001b[0;34m(filepath, custom_objects, compile, safe_mode, **kwargs)\u001b[0m\n\u001b[1;32m    210\u001b[0m \u001b[0;34m\u001b[0m\u001b[0m\n\u001b[1;32m    211\u001b[0m     \u001b[0;31m# Legacy case.\u001b[0m\u001b[0;34m\u001b[0m\u001b[0;34m\u001b[0m\u001b[0m\n\u001b[0;32m--> 212\u001b[0;31m     return legacy_sm_saving_lib.load_model(\n\u001b[0m\u001b[1;32m    213\u001b[0m         \u001b[0mfilepath\u001b[0m\u001b[0;34m,\u001b[0m \u001b[0mcustom_objects\u001b[0m\u001b[0;34m=\u001b[0m\u001b[0mcustom_objects\u001b[0m\u001b[0;34m,\u001b[0m \u001b[0mcompile\u001b[0m\u001b[0;34m=\u001b[0m\u001b[0mcompile\u001b[0m\u001b[0;34m,\u001b[0m \u001b[0;34m**\u001b[0m\u001b[0mkwargs\u001b[0m\u001b[0;34m\u001b[0m\u001b[0;34m\u001b[0m\u001b[0m\n\u001b[1;32m    214\u001b[0m     )\n",
            "\u001b[0;32m/usr/local/lib/python3.10/dist-packages/keras/utils/traceback_utils.py\u001b[0m in \u001b[0;36merror_handler\u001b[0;34m(*args, **kwargs)\u001b[0m\n\u001b[1;32m     68\u001b[0m             \u001b[0;31m# To get the full stack trace, call:\u001b[0m\u001b[0;34m\u001b[0m\u001b[0;34m\u001b[0m\u001b[0m\n\u001b[1;32m     69\u001b[0m             \u001b[0;31m# `tf.debugging.disable_traceback_filtering()`\u001b[0m\u001b[0;34m\u001b[0m\u001b[0;34m\u001b[0m\u001b[0m\n\u001b[0;32m---> 70\u001b[0;31m             \u001b[0;32mraise\u001b[0m \u001b[0me\u001b[0m\u001b[0;34m.\u001b[0m\u001b[0mwith_traceback\u001b[0m\u001b[0;34m(\u001b[0m\u001b[0mfiltered_tb\u001b[0m\u001b[0;34m)\u001b[0m \u001b[0;32mfrom\u001b[0m \u001b[0;32mNone\u001b[0m\u001b[0;34m\u001b[0m\u001b[0;34m\u001b[0m\u001b[0m\n\u001b[0m\u001b[1;32m     71\u001b[0m         \u001b[0;32mfinally\u001b[0m\u001b[0;34m:\u001b[0m\u001b[0;34m\u001b[0m\u001b[0;34m\u001b[0m\u001b[0m\n\u001b[1;32m     72\u001b[0m             \u001b[0;32mdel\u001b[0m \u001b[0mfiltered_tb\u001b[0m\u001b[0;34m\u001b[0m\u001b[0;34m\u001b[0m\u001b[0m\n",
            "\u001b[0;32m/usr/local/lib/python3.10/dist-packages/keras/utils/generic_utils.py\u001b[0m in \u001b[0;36mfunc_load\u001b[0;34m(code, defaults, closure, globs)\u001b[0m\n\u001b[1;32m    100\u001b[0m     \u001b[0;32mexcept\u001b[0m \u001b[0;34m(\u001b[0m\u001b[0mUnicodeEncodeError\u001b[0m\u001b[0;34m,\u001b[0m \u001b[0mbinascii\u001b[0m\u001b[0;34m.\u001b[0m\u001b[0mError\u001b[0m\u001b[0;34m)\u001b[0m\u001b[0;34m:\u001b[0m\u001b[0;34m\u001b[0m\u001b[0;34m\u001b[0m\u001b[0m\n\u001b[1;32m    101\u001b[0m         \u001b[0mraw_code\u001b[0m \u001b[0;34m=\u001b[0m \u001b[0mcode\u001b[0m\u001b[0;34m.\u001b[0m\u001b[0mencode\u001b[0m\u001b[0;34m(\u001b[0m\u001b[0;34m\"raw_unicode_escape\"\u001b[0m\u001b[0;34m)\u001b[0m\u001b[0;34m\u001b[0m\u001b[0;34m\u001b[0m\u001b[0m\n\u001b[0;32m--> 102\u001b[0;31m     \u001b[0mcode\u001b[0m \u001b[0;34m=\u001b[0m \u001b[0mmarshal\u001b[0m\u001b[0;34m.\u001b[0m\u001b[0mloads\u001b[0m\u001b[0;34m(\u001b[0m\u001b[0mraw_code\u001b[0m\u001b[0;34m)\u001b[0m\u001b[0;34m\u001b[0m\u001b[0;34m\u001b[0m\u001b[0m\n\u001b[0m\u001b[1;32m    103\u001b[0m     \u001b[0;32mif\u001b[0m \u001b[0mglobs\u001b[0m \u001b[0;32mis\u001b[0m \u001b[0;32mNone\u001b[0m\u001b[0;34m:\u001b[0m\u001b[0;34m\u001b[0m\u001b[0;34m\u001b[0m\u001b[0m\n\u001b[1;32m    104\u001b[0m         \u001b[0mglobs\u001b[0m \u001b[0;34m=\u001b[0m \u001b[0mglobals\u001b[0m\u001b[0;34m(\u001b[0m\u001b[0;34m)\u001b[0m\u001b[0;34m\u001b[0m\u001b[0;34m\u001b[0m\u001b[0m\n",
            "\u001b[0;31mValueError\u001b[0m: bad marshal data (unknown type code)"
          ]
        }
      ],
      "source": [
        "#load the pretrained facenet mode\n",
        "\n",
        "from keras.models import load_model #Fungsi ini digunakan untuk memuat model yang telah disimpan sebelumnya.\n",
        "model = load_model ('facenet_keras.h5') #lokasi file model yang akan dimuat. \n",
        "print(model.inputs) #Mencetak input model\n",
        "print(model.outputs) #mencetak daftar output model"
      ]
    },
    {
      "cell_type": "markdown",
      "id": "3ae3b759",
      "metadata": {
        "papermill": {
          "duration": 0.051789,
          "end_time": "2021-07-18T12:28:31.479734",
          "exception": false,
          "start_time": "2021-07-18T12:28:31.427945",
          "status": "completed"
        },
        "tags": [],
        "id": "3ae3b759"
      },
      "source": [
        "_Untuk menggunakan model facenet yang telah dilatih sebelumnya, larik masukan perlu diubah ukurannya agar sesuai dengan bentuk facenet yang diperlukan seperti yang ditunjukkan oleh model.inputs._ "
      ]
    },
    {
      "cell_type": "code",
      "execution_count": null,
      "id": "c15bbe3d",
      "metadata": {
        "execution": {
          "iopub.execute_input": "2021-07-18T12:28:31.589826Z",
          "iopub.status.busy": "2021-07-18T12:28:31.588819Z",
          "iopub.status.idle": "2021-07-18T12:28:31.593176Z",
          "shell.execute_reply": "2021-07-18T12:28:31.592579Z",
          "shell.execute_reply.started": "2021-07-18T12:25:12.261435Z"
        },
        "papermill": {
          "duration": 0.061526,
          "end_time": "2021-07-18T12:28:31.593330",
          "exception": false,
          "start_time": "2021-07-18T12:28:31.531804",
          "status": "completed"
        },
        "tags": [],
        "id": "c15bbe3d"
      },
      "outputs": [],
      "source": [
        "#repeat the same color channels 3 times to make the shape compatible with the facenet model\n",
        "#X_train = np.repeat(X_train[..., np.newaxis], 3, -1)\n",
        "#X_valid = np.repeat(X_valid[..., np.newaxis], 3, -1)\n",
        "#X_test = np.repeat(X_test[..., np.newaxis], 3, -1)"
      ]
    },
    {
      "cell_type": "code",
      "execution_count": 25,
      "id": "e79cc667",
      "metadata": {
        "execution": {
          "iopub.execute_input": "2021-07-18T12:28:31.704856Z",
          "iopub.status.busy": "2021-07-18T12:28:31.703999Z",
          "iopub.status.idle": "2021-07-18T12:28:31.708408Z",
          "shell.execute_reply": "2021-07-18T12:28:31.707747Z",
          "shell.execute_reply.started": "2021-07-18T12:25:12.266766Z"
        },
        "papermill": {
          "duration": 0.063411,
          "end_time": "2021-07-18T12:28:31.708559",
          "exception": false,
          "start_time": "2021-07-18T12:28:31.645148",
          "status": "completed"
        },
        "tags": [],
        "colab": {
          "base_uri": "https://localhost:8080/"
        },
        "id": "e79cc667",
        "outputId": "229b0e1a-cf4e-47a2-938b-d309c40e58fb"
      },
      "outputs": [
        {
          "output_type": "execute_result",
          "data": {
            "text/plain": [
              "(216, 112, 92, 3)"
            ]
          },
          "metadata": {},
          "execution_count": 25
        }
      ],
      "source": [
        "X_train.shape"
      ]
    },
    {
      "cell_type": "code",
      "execution_count": 26,
      "id": "e3fa83e5",
      "metadata": {
        "execution": {
          "iopub.execute_input": "2021-07-18T12:28:31.839013Z",
          "iopub.status.busy": "2021-07-18T12:28:31.837568Z",
          "iopub.status.idle": "2021-07-18T12:28:31.963387Z",
          "shell.execute_reply": "2021-07-18T12:28:31.964164Z",
          "shell.execute_reply.started": "2021-07-18T12:25:12.289444Z"
        },
        "papermill": {
          "duration": 0.203209,
          "end_time": "2021-07-18T12:28:31.964469",
          "exception": false,
          "start_time": "2021-07-18T12:28:31.761260",
          "status": "completed"
        },
        "tags": [],
        "id": "e3fa83e5"
      },
      "outputs": [],
      "source": [
        "#gambar wajah dalam X_train, X_valid, dan X_test akan diperbesar menjadi 160x160 piksel dengan 3 saluran warna (merah, hijau, biru). \n",
        "#Proses ini dapat berguna untuk memastikan bahwa gambar wajah memiliki dimensi yang konsisten dan cocok dengan model yang akan digunakan.\n",
        "X_train = np.resize(X_train,(X_train.shape[0],160,160,3))\n",
        "X_valid = np.resize(X_train,(X_valid.shape[0],160,160,3))\n",
        "X_test = np.resize(X_train,(X_test.shape[0],160,160,3))"
      ]
    },
    {
      "cell_type": "code",
      "execution_count": 27,
      "id": "cb417eb3",
      "metadata": {
        "execution": {
          "iopub.execute_input": "2021-07-18T12:28:32.088516Z",
          "iopub.status.busy": "2021-07-18T12:28:32.087751Z",
          "iopub.status.idle": "2021-07-18T12:28:32.093130Z",
          "shell.execute_reply": "2021-07-18T12:28:32.092156Z",
          "shell.execute_reply.started": "2021-07-18T12:25:12.378213Z"
        },
        "papermill": {
          "duration": 0.068019,
          "end_time": "2021-07-18T12:28:32.093339",
          "exception": false,
          "start_time": "2021-07-18T12:28:32.025320",
          "status": "completed"
        },
        "tags": [],
        "colab": {
          "base_uri": "https://localhost:8080/"
        },
        "id": "cb417eb3",
        "outputId": "f60b5268-e791-4cb7-977a-d18381681eee"
      },
      "outputs": [
        {
          "output_type": "execute_result",
          "data": {
            "text/plain": [
              "((216, 160, 160, 3), (24, 160, 160, 3), (160, 160, 160, 3))"
            ]
          },
          "metadata": {},
          "execution_count": 27
        }
      ],
      "source": [
        "#untuk mendapatkan dimensi baru dari X_train, X_valid, dan X_test. Output akan memberikan informasi tentang jumlah sampel dan dimensi gambar \n",
        "X_train.shape, X_valid.shape, X_test.shape"
      ]
    },
    {
      "cell_type": "code",
      "execution_count": 28,
      "id": "837772d2",
      "metadata": {
        "execution": {
          "iopub.execute_input": "2021-07-18T12:28:32.220844Z",
          "iopub.status.busy": "2021-07-18T12:28:32.219815Z",
          "iopub.status.idle": "2021-07-18T12:28:32.224437Z",
          "shell.execute_reply": "2021-07-18T12:28:32.223477Z",
          "shell.execute_reply.started": "2021-07-18T12:25:12.385891Z"
        },
        "papermill": {
          "duration": 0.062487,
          "end_time": "2021-07-18T12:28:32.224662",
          "exception": false,
          "start_time": "2021-07-18T12:28:32.162175",
          "status": "completed"
        },
        "tags": [],
        "id": "837772d2"
      },
      "outputs": [],
      "source": [
        "#scale the inputs\n",
        "#X_train = X_train / 255.\n",
        "#X_valid = X_valid / 255.\n",
        "#X_test = X_test / 255."
      ]
    },
    {
      "cell_type": "code",
      "execution_count": 29,
      "id": "bae1f124",
      "metadata": {
        "execution": {
          "iopub.execute_input": "2021-07-18T12:28:32.406807Z",
          "iopub.status.busy": "2021-07-18T12:28:32.406166Z",
          "iopub.status.idle": "2021-07-18T12:28:48.117482Z",
          "shell.execute_reply": "2021-07-18T12:28:48.116853Z",
          "shell.execute_reply.started": "2021-07-18T12:25:12.397731Z"
        },
        "papermill": {
          "duration": 15.833996,
          "end_time": "2021-07-18T12:28:48.117643",
          "exception": false,
          "start_time": "2021-07-18T12:28:32.283647",
          "status": "completed"
        },
        "tags": [],
        "colab": {
          "base_uri": "https://localhost:8080/",
          "height": 236
        },
        "id": "bae1f124",
        "outputId": "fb7d7bc3-1fb8-45d7-8eb4-d9d5b7b8121e"
      },
      "outputs": [
        {
          "output_type": "error",
          "ename": "NameError",
          "evalue": "ignored",
          "traceback": [
            "\u001b[0;31m---------------------------------------------------------------------------\u001b[0m",
            "\u001b[0;31mNameError\u001b[0m                                 Traceback (most recent call last)",
            "\u001b[0;32m<ipython-input-29-3f3c566538b5>\u001b[0m in \u001b[0;36m<cell line: 4>\u001b[0;34m()\u001b[0m\n\u001b[1;32m      2\u001b[0m \u001b[0;31m#Representasi ini dapat digunakan untuk membandingkan wajah, mendeteksi kesamaan, atau melatih model lain untuk tugas-tugas seperti verifikasi atau identifikasi wajah.\u001b[0m\u001b[0;34m\u001b[0m\u001b[0;34m\u001b[0m\u001b[0m\n\u001b[1;32m      3\u001b[0m \u001b[0;34m\u001b[0m\u001b[0m\n\u001b[0;32m----> 4\u001b[0;31m \u001b[0my_train_embeddings\u001b[0m \u001b[0;34m=\u001b[0m \u001b[0mmodel\u001b[0m\u001b[0;34m.\u001b[0m\u001b[0mpredict\u001b[0m\u001b[0;34m(\u001b[0m\u001b[0mX_train\u001b[0m\u001b[0;34m)\u001b[0m\u001b[0;34m\u001b[0m\u001b[0;34m\u001b[0m\u001b[0m\n\u001b[0m\u001b[1;32m      5\u001b[0m \u001b[0my_valid_embeddings\u001b[0m \u001b[0;34m=\u001b[0m \u001b[0mmodel\u001b[0m\u001b[0;34m.\u001b[0m\u001b[0mpredict\u001b[0m\u001b[0;34m(\u001b[0m\u001b[0mX_valid\u001b[0m\u001b[0;34m)\u001b[0m\u001b[0;34m\u001b[0m\u001b[0;34m\u001b[0m\u001b[0m\n\u001b[1;32m      6\u001b[0m \u001b[0my_test_embeddings\u001b[0m \u001b[0;34m=\u001b[0m \u001b[0mmodel\u001b[0m\u001b[0;34m.\u001b[0m\u001b[0mpredict\u001b[0m\u001b[0;34m(\u001b[0m\u001b[0mX_test\u001b[0m\u001b[0;34m)\u001b[0m\u001b[0;34m\u001b[0m\u001b[0;34m\u001b[0m\u001b[0m\n",
            "\u001b[0;31mNameError\u001b[0m: name 'model' is not defined"
          ]
        }
      ],
      "source": [
        "#representasi embedding adalah representasi numerik yang menggambarkan fitur-fitur penting dari wajah. \n",
        "#Representasi ini dapat digunakan untuk membandingkan wajah, mendeteksi kesamaan, atau melatih model lain untuk tugas-tugas seperti verifikasi atau identifikasi wajah.\n",
        "\n",
        "y_train_embeddings = model.predict(X_train)\n",
        "y_valid_embeddings = model.predict(X_valid)\n",
        "y_test_embeddings = model.predict(X_test)\n",
        "\n",
        "#untuk menghasilkan representasi embedding dari setiap sampel dalam X_train, X_valid, dan X_test menggunakan model yang telah dimuat. \n",
        "#Hasilnya akan disimpan dalam variabel y_train_embeddings, y_valid_embeddings, dan y_test_embeddings."
      ]
    },
    {
      "cell_type": "code",
      "execution_count": null,
      "id": "dc60421f",
      "metadata": {
        "execution": {
          "iopub.execute_input": "2021-07-18T12:28:48.232038Z",
          "iopub.status.busy": "2021-07-18T12:28:48.230992Z",
          "iopub.status.idle": "2021-07-18T12:28:48.236178Z",
          "shell.execute_reply": "2021-07-18T12:28:48.235538Z",
          "shell.execute_reply.started": "2021-07-18T12:25:22.806779Z"
        },
        "papermill": {
          "duration": 0.065574,
          "end_time": "2021-07-18T12:28:48.236319",
          "exception": false,
          "start_time": "2021-07-18T12:28:48.170745",
          "status": "completed"
        },
        "tags": [],
        "id": "dc60421f",
        "outputId": "dcdc81f2-4e04-4a4b-8aff-dc6d87e3533c"
      },
      "outputs": [
        {
          "data": {
            "text/plain": [
              "(216, 128)"
            ]
          },
          "execution_count": 25,
          "metadata": {},
          "output_type": "execute_result"
        }
      ],
      "source": [
        "#untuk mendapatkan dimensi dari y_train_embeddings. \n",
        "#Outputnya akan memberikan informasi tentang jumlah sampel dan dimensi representasi embedding untuk setiap sampel dalam X_train.\n",
        "y_train_embeddings.shape"
      ]
    },
    {
      "cell_type": "code",
      "execution_count": null,
      "id": "5c2569e8",
      "metadata": {
        "execution": {
          "iopub.execute_input": "2021-07-18T12:28:48.459305Z",
          "iopub.status.busy": "2021-07-18T12:28:48.458546Z",
          "iopub.status.idle": "2021-07-18T12:28:48.464191Z",
          "shell.execute_reply": "2021-07-18T12:28:48.463664Z",
          "shell.execute_reply.started": "2021-07-18T12:25:22.815463Z"
        },
        "papermill": {
          "duration": 0.066536,
          "end_time": "2021-07-18T12:28:48.464496",
          "exception": false,
          "start_time": "2021-07-18T12:28:48.397960",
          "status": "completed"
        },
        "tags": [],
        "id": "5c2569e8"
      },
      "outputs": [],
      "source": [
        "#Jalankan kode tersebut untuk melakukan normalisasi pada representasi embedding (y_train_embeddings, y_valid_embeddings, y_test_embeddings). \n",
        "#Hasilnya akan disimpan dalam variabel embed_train_norm, embed_valid_norm, dan embed_test_norm.\n",
        "from sklearn.preprocessing import Normalizer #Normalizer dari modul sklearn.preprocessing digunakan untuk melakukan normalisasi pada representasi embedding yang dihasilkan \n",
        "input_encoder = Normalizer(norm='l2')\n",
        "embed_train_norm = input_encoder.transform(np.reshape(y_train_embeddings,(-1,128)))\n",
        "embed_valid_norm = input_encoder.transform(np.reshape(y_valid_embeddings,(-1,128)))\n",
        "embed_test_norm = input_encoder.transform(np.reshape(y_test_embeddings,(-1,128)))"
      ]
    },
    {
      "cell_type": "code",
      "execution_count": null,
      "id": "27c48edd",
      "metadata": {
        "execution": {
          "iopub.execute_input": "2021-07-18T12:28:48.578068Z",
          "iopub.status.busy": "2021-07-18T12:28:48.577352Z",
          "iopub.status.idle": "2021-07-18T12:28:48.581846Z",
          "shell.execute_reply": "2021-07-18T12:28:48.581228Z",
          "shell.execute_reply.started": "2021-07-18T12:25:22.828722Z"
        },
        "papermill": {
          "duration": 0.063275,
          "end_time": "2021-07-18T12:28:48.582007",
          "exception": false,
          "start_time": "2021-07-18T12:28:48.518732",
          "status": "completed"
        },
        "tags": [],
        "id": "27c48edd",
        "outputId": "584de289-bf09-4007-8c20-ef1fef0a9674"
      },
      "outputs": [
        {
          "data": {
            "text/plain": [
              "(216, 128)"
            ]
          },
          "execution_count": 27,
          "metadata": {},
          "output_type": "execute_result"
        }
      ],
      "source": [
        "#untuk mendapatkan dimensi dari embed_train_norm. \n",
        "#Outputnya akan memberikan informasi tentang jumlah sampel dan dimensi representasi embedding yang telah dinormalisasi dalam embed_train_norm.\n",
        "embed_train_norm.shape"
      ]
    },
    {
      "cell_type": "markdown",
      "id": "0a7021b9",
      "metadata": {
        "papermill": {
          "duration": 0.053632,
          "end_time": "2021-07-18T12:28:48.690612",
          "exception": false,
          "start_time": "2021-07-18T12:28:48.636980",
          "status": "completed"
        },
        "tags": [],
        "id": "0a7021b9"
      },
      "source": [
        "<a name='4-1'></a>\n",
        "### _4.1 - Use Support Vector Machines untuk mengklasifikasikan face embeddings vectors_"
      ]
    },
    {
      "cell_type": "code",
      "execution_count": null,
      "id": "cd888ed5",
      "metadata": {
        "execution": {
          "iopub.execute_input": "2021-07-18T12:28:48.803162Z",
          "iopub.status.busy": "2021-07-18T12:28:48.802443Z",
          "iopub.status.idle": "2021-07-18T12:28:49.225526Z",
          "shell.execute_reply": "2021-07-18T12:28:49.224980Z",
          "shell.execute_reply.started": "2021-07-18T12:25:22.842902Z"
        },
        "papermill": {
          "duration": 0.48161,
          "end_time": "2021-07-18T12:28:49.225676",
          "exception": false,
          "start_time": "2021-07-18T12:28:48.744066",
          "status": "completed"
        },
        "tags": [],
        "id": "cd888ed5"
      },
      "outputs": [],
      "source": [
        "#Support Vector Machine (SVM) untuk klasifikasi. \n",
        "from sklearn.svm import SVC\n",
        "from sklearn.metrics import accuracy_score\n",
        "from sklearn.metrics import confusion_matrix"
      ]
    },
    {
      "cell_type": "code",
      "execution_count": null,
      "id": "f60ddcf6",
      "metadata": {
        "execution": {
          "iopub.execute_input": "2021-07-18T12:28:49.338780Z",
          "iopub.status.busy": "2021-07-18T12:28:49.338054Z",
          "iopub.status.idle": "2021-07-18T12:28:49.448259Z",
          "shell.execute_reply": "2021-07-18T12:28:49.447649Z",
          "shell.execute_reply.started": "2021-07-18T12:25:22.876297Z"
        },
        "papermill": {
          "duration": 0.16933,
          "end_time": "2021-07-18T12:28:49.448420",
          "exception": false,
          "start_time": "2021-07-18T12:28:49.279090",
          "status": "completed"
        },
        "tags": [],
        "id": "f60ddcf6",
        "outputId": "2beec9f1-85d4-446f-b618-76332476bc70"
      },
      "outputs": [
        {
          "data": {
            "text/plain": [
              "SVC(C=10.0, kernel='linear', probability=True)"
            ]
          },
          "execution_count": 29,
          "metadata": {},
          "output_type": "execute_result"
        }
      ],
      "source": [
        "#sebuah objek SVC dengan konfigurasi tertentu dibuat, \n",
        "#dan model SVM dilatih menggunakan representasi embedding yang telah dinormalisasi embed_train_norm dan label y_train.\n",
        "svc_clf = SVC(kernel ='linear',C=10.0,probability=True)\n",
        "\n",
        "svc_clf.fit(embed_train_norm,y_train)\n",
        "\n",
        "#model SVM akan dilatih menggunakan representasi embedding yang telah dinormalisasi dan label yang sesuai. \n",
        "#Model ini dapat digunakan untuk melakukan prediksi pada data baru atau untuk mengevaluasi performa pada data validasi atau data pengujian."
      ]
    },
    {
      "cell_type": "code",
      "execution_count": null,
      "id": "7d5f2479",
      "metadata": {
        "execution": {
          "iopub.execute_input": "2021-07-18T12:28:49.563774Z",
          "iopub.status.busy": "2021-07-18T12:28:49.562887Z",
          "iopub.status.idle": "2021-07-18T12:28:49.585181Z",
          "shell.execute_reply": "2021-07-18T12:28:49.584583Z",
          "shell.execute_reply.started": "2021-07-18T12:25:22.990202Z"
        },
        "papermill": {
          "duration": 0.082698,
          "end_time": "2021-07-18T12:28:49.585347",
          "exception": false,
          "start_time": "2021-07-18T12:28:49.502649",
          "status": "completed"
        },
        "tags": [],
        "id": "7d5f2479"
      },
      "outputs": [],
      "source": [
        " #menggunakan model svc_clf yang telah dilatih sebelumnya untuk melakukan prediksi pada data latih, data validasi, \n",
        " #dan data pengujian yang telah diubah menjadi representasi embedding yang dinormalisasi.\n",
        "y_pred_train = svc_clf.predict(embed_train_norm) #Melakukan prediksi pada data latih dengan memanggil metode predict() dari objek svc_clf. Hasil prediksi akan disimpan dalam variabel y_pred_train.\n",
        "y_pred_valid = svc_clf.predict(embed_valid_norm) #Melakukan prediksi pada data validasi dengan memanggil metode predict() dari objek svc_clf. Hasil prediksi akan disimpan dalam variabel y_pred_valid.\n",
        "y_pred_test = svc_clf.predict(embed_test_norm) # Melakukan prediksi pada data pengujian dengan memanggil metode predict() dari objek svc_clf. Hasil prediksi akan disimpan dalam variabel y_pred_test."
      ]
    },
    {
      "cell_type": "code",
      "execution_count": null,
      "id": "ade8060b",
      "metadata": {
        "execution": {
          "iopub.execute_input": "2021-07-18T12:28:49.700979Z",
          "iopub.status.busy": "2021-07-18T12:28:49.699355Z",
          "iopub.status.idle": "2021-07-18T12:28:49.706834Z",
          "shell.execute_reply": "2021-07-18T12:28:49.706094Z",
          "shell.execute_reply.started": "2021-07-18T12:25:23.017291Z"
        },
        "papermill": {
          "duration": 0.067221,
          "end_time": "2021-07-18T12:28:49.707053",
          "exception": false,
          "start_time": "2021-07-18T12:28:49.639832",
          "status": "completed"
        },
        "tags": [],
        "id": "ade8060b",
        "outputId": "3aea9179-699a-4428-dead-5bce68a666eb"
      },
      "outputs": [
        {
          "name": "stdout",
          "output_type": "stream",
          "text": [
            "Accuracy on train set 0.162\n",
            "Accuracy on the validation set 0.042\n",
            "Accuracy on the test set 0.069\n"
          ]
        }
      ],
      "source": [
        "#accuracy_score dari modul sklearn.metrics untuk menghitung akurasi pada set data latih, data validasi, dan data pengujian.\n",
        "print('Accuracy on train set %.3f' %accuracy_score(y_train,y_pred_train))\n",
        "print('Accuracy on the validation set %.3f' %accuracy_score(y_valid,y_pred_valid))\n",
        "print('Accuracy on the test set %.3f' %accuracy_score(testY,y_pred_test))\n",
        "#dapat mengukur akurasi prediksi model SVM pada set data yang berbeda. \n",
        "#Akurasi merupakan salah satu metrik yang umum digunakan untuk mengevaluasi kinerja model klasifikasi, yang menghitung persentase prediksi yang benar dari keseluruhan prediksi."
      ]
    },
    {
      "cell_type": "markdown",
      "id": "0dd3accf",
      "metadata": {
        "papermill": {
          "duration": 0.056314,
          "end_time": "2021-07-18T12:28:49.930113",
          "exception": false,
          "start_time": "2021-07-18T12:28:49.873799",
          "status": "completed"
        },
        "tags": [],
        "id": "0dd3accf"
      },
      "source": [
        "<a name='5'></a>\n",
        "## _5 -  2: Klasifikasi Wajah menggunakan cara klasifikasi gambar normal_\n"
      ]
    },
    {
      "cell_type": "code",
      "execution_count": null,
      "id": "ba52c2ca",
      "metadata": {
        "execution": {
          "iopub.execute_input": "2021-07-18T12:28:50.045569Z",
          "iopub.status.busy": "2021-07-18T12:28:50.044856Z",
          "iopub.status.idle": "2021-07-18T12:28:50.177062Z",
          "shell.execute_reply": "2021-07-18T12:28:50.176476Z",
          "shell.execute_reply.started": "2021-07-18T12:26:59.447571Z"
        },
        "papermill": {
          "duration": 0.193097,
          "end_time": "2021-07-18T12:28:50.177220",
          "exception": false,
          "start_time": "2021-07-18T12:28:49.984123",
          "status": "completed"
        },
        "tags": [],
        "id": "ba52c2ca"
      },
      "outputs": [],
      "source": [
        "#np.reshape untuk mengubah dimensi dari data gambar latih dan uji menjadi bentuk yang sesuai dengan model.\n",
        "n_rows = 112\n",
        "n_cols = 92\n",
        "n_channels = 1\n",
        "\n",
        "trainX =  np.reshape(data['trainX'],newshape=(data['trainX'].shape[0],n_rows,n_cols,n_channels))\n",
        "testX =  np.reshape(data['testX'],newshape=(data['testX'].shape[0],n_rows,n_cols,n_channels))\n",
        "trainY = data['trainY']\n",
        "testY = data['testY']\n",
        "#Dengan menggunakan np.reshape,  mengubah dimensi data gambar latih dan uji menjadi bentuk yang sesuai dengan model CNN yang akan digunakan. \n",
        "#Ini memungkinkan untuk memasukkan data gambar ke dalam model dan melatih serta menguji model menggunakan data yang telah diubah dimensinya."
      ]
    },
    {
      "cell_type": "code",
      "execution_count": null,
      "id": "415dbe6f",
      "metadata": {
        "execution": {
          "iopub.execute_input": "2021-07-18T12:28:50.291260Z",
          "iopub.status.busy": "2021-07-18T12:28:50.290583Z",
          "iopub.status.idle": "2021-07-18T12:28:50.303424Z",
          "shell.execute_reply": "2021-07-18T12:28:50.302890Z",
          "shell.execute_reply.started": "2021-07-18T12:26:59.670614Z"
        },
        "papermill": {
          "duration": 0.072211,
          "end_time": "2021-07-18T12:28:50.303586",
          "exception": false,
          "start_time": "2021-07-18T12:28:50.231375",
          "status": "completed"
        },
        "tags": [],
        "id": "415dbe6f"
      },
      "outputs": [],
      "source": [
        "#np.random.permutation untuk membuat urutan acak dari indeks data latih, \n",
        "#dan kemudian menggunakan indeks yang diacak untuk mengacak ulang urutan data latih dan label kelas yang sesuai.\n",
        "shuffled_indices = np.random.permutation(len(trainX))\n",
        "X_train = trainX[shuffled_indices]\n",
        "y_train = trainY[shuffled_indices]\n",
        "\n",
        "#Dengan melakukan pengacakan ulang ini, Anda memastikan bahwa urutan data latih dan label kelas yang digunakan dalam pelatihan model menjadi acak, \n",
        "#sehingga mengurangi kemungkinan adanya bias yang mungkin terkait dengan urutan data."
      ]
    },
    {
      "cell_type": "code",
      "execution_count": null,
      "id": "ca63e51e",
      "metadata": {
        "execution": {
          "iopub.execute_input": "2021-07-18T12:28:50.417308Z",
          "iopub.status.busy": "2021-07-18T12:28:50.416620Z",
          "iopub.status.idle": "2021-07-18T12:28:50.418784Z",
          "shell.execute_reply": "2021-07-18T12:28:50.419399Z",
          "shell.execute_reply.started": "2021-07-18T12:26:59.909278Z"
        },
        "papermill": {
          "duration": 0.061958,
          "end_time": "2021-07-18T12:28:50.419568",
          "exception": false,
          "start_time": "2021-07-18T12:28:50.357610",
          "status": "completed"
        },
        "tags": [],
        "id": "ca63e51e"
      },
      "outputs": [],
      "source": [
        "# dapat menggunakan variabel X_test untuk melakukan prediksi pada data gambar uji dan variabel y_test untuk membandingkan hasil prediksi dengan label kelas yang sebenarnya.\n",
        "X_test = testX\n",
        "y_test = testY"
      ]
    },
    {
      "cell_type": "code",
      "execution_count": null,
      "id": "dc8d547c",
      "metadata": {
        "execution": {
          "iopub.execute_input": "2021-07-18T12:28:50.532940Z",
          "iopub.status.busy": "2021-07-18T12:28:50.532189Z",
          "iopub.status.idle": "2021-07-18T12:28:50.535502Z",
          "shell.execute_reply": "2021-07-18T12:28:50.534971Z",
          "shell.execute_reply.started": "2021-07-18T12:27:00.164035Z"
        },
        "papermill": {
          "duration": 0.062202,
          "end_time": "2021-07-18T12:28:50.535650",
          "exception": false,
          "start_time": "2021-07-18T12:28:50.473448",
          "status": "completed"
        },
        "tags": [],
        "id": "dc8d547c"
      },
      "outputs": [],
      "source": [
        "#tensorflow\n",
        "import tensorflow as tf"
      ]
    },
    {
      "cell_type": "markdown",
      "id": "8bed2c41",
      "metadata": {
        "papermill": {
          "duration": 0.054527,
          "end_time": "2021-07-18T12:28:50.644218",
          "exception": false,
          "start_time": "2021-07-18T12:28:50.589691",
          "status": "completed"
        },
        "tags": [],
        "id": "8bed2c41"
      },
      "source": [
        "<a name='5-1'></a>\n",
        "### _5.1 - Mendefinisikan Arsitektur Model berbasis API Fungsional_"
      ]
    },
    {
      "cell_type": "code",
      "execution_count": null,
      "id": "2205593e",
      "metadata": {
        "execution": {
          "iopub.execute_input": "2021-07-18T12:28:50.766971Z",
          "iopub.status.busy": "2021-07-18T12:28:50.760834Z",
          "iopub.status.idle": "2021-07-18T12:28:50.768920Z",
          "shell.execute_reply": "2021-07-18T12:28:50.769541Z",
          "shell.execute_reply.started": "2021-07-18T12:27:01.086093Z"
        },
        "papermill": {
          "duration": 0.071245,
          "end_time": "2021-07-18T12:28:50.769719",
          "exception": false,
          "start_time": "2021-07-18T12:28:50.698474",
          "status": "completed"
        },
        "tags": [],
        "id": "2205593e"
      },
      "outputs": [],
      "source": [
        "def convolutional_model(input_shape,n_filters=8,kernel_size=4,strides=1,padding='same',units=1024,activation='relu',\n",
        "                        kernel_regularizer=tf.keras.regularizers.L1L2(l1=0.01, l2=0.01)):\n",
        "    \n",
        "    '''CNN and Dense Model using Functional API'''\n",
        "    \n",
        "    input_img = tf.keras.Input(shape=input_shape[1:])\n",
        "    #Conv2D layer\n",
        "    Z1 = tf.keras.layers.Conv2D(filters=n_filters,kernel_size=(kernel_size,kernel_size),strides=strides,padding=padding)(input_img)\n",
        "    ##ReLU activation layer\n",
        "    A1 = tf.keras.layers.Activation(activation)(Z1)\n",
        "    ##MAXPOOL\n",
        "    P1 = tf.keras.layers.MaxPool2D(pool_size=(n_filters,n_filters),strides=strides*8,padding=padding)(A1)\n",
        "    ##Conv2D\n",
        "    Z2 = tf.keras.layers.Conv2D(filters=n_filters*2,kernel_size=(int(kernel_size/2),int(kernel_size/2)),strides=strides,padding=padding)(P1)\n",
        "    ##ReLU\n",
        "    A2 = tf.keras.layers.Activation(activation)(Z2)\n",
        "    ##MAXPool\n",
        "    P2 = tf.keras.layers.MaxPool2D(pool_size=(int(n_filters/2)),strides=strides*4,padding=padding)(A2)\n",
        "    ##Flatten\n",
        "    F = tf.keras.layers.Flatten()(P2)\n",
        "    ##Dense layers\n",
        "    D1 = tf.keras.layers.Dense(units=units,activation=activation)(F)\n",
        "    D2 = tf.keras.layers.Dense(units=int(units/2),activation=activation,kernel_regularizer=kernel_regularizer)(D1)\n",
        "    D3 = tf.keras.layers.Dense(units=int(units/4),activation=activation,kernel_regularizer=kernel_regularizer)(D2)\n",
        "    ##output layer\n",
        "    outputs = tf.keras.layers.Dense(units=20,activation='softmax')(D3)\n",
        "    \n",
        "    #instantiate the model\n",
        "    model = tf.keras.Model(inputs=input_img,outputs=outputs)\n",
        "    return model    "
      ]
    },
    {
      "cell_type": "code",
      "execution_count": null,
      "id": "ee6f3c51",
      "metadata": {
        "execution": {
          "iopub.execute_input": "2021-07-18T12:28:50.881204Z",
          "iopub.status.busy": "2021-07-18T12:28:50.880504Z",
          "iopub.status.idle": "2021-07-18T12:28:50.993006Z",
          "shell.execute_reply": "2021-07-18T12:28:50.993500Z",
          "shell.execute_reply.started": "2021-07-18T12:27:01.712459Z"
        },
        "papermill": {
          "duration": 0.170117,
          "end_time": "2021-07-18T12:28:50.993679",
          "exception": false,
          "start_time": "2021-07-18T12:28:50.823562",
          "status": "completed"
        },
        "tags": [],
        "id": "ee6f3c51",
        "outputId": "661d2e3b-ddbc-4f7b-cd46-e44b3dcd5cdd"
      },
      "outputs": [
        {
          "name": "stdout",
          "output_type": "stream",
          "text": [
            "Model: \"model\"\n",
            "_________________________________________________________________\n",
            "Layer (type)                 Output Shape              Param #   \n",
            "=================================================================\n",
            "input_1 (InputLayer)         [(None, 112, 92, 1)]      0         \n",
            "_________________________________________________________________\n",
            "conv2d (Conv2D)              (None, 112, 92, 8)        136       \n",
            "_________________________________________________________________\n",
            "activation (Activation)      (None, 112, 92, 8)        0         \n",
            "_________________________________________________________________\n",
            "max_pooling2d (MaxPooling2D) (None, 14, 12, 8)         0         \n",
            "_________________________________________________________________\n",
            "conv2d_1 (Conv2D)            (None, 14, 12, 16)        528       \n",
            "_________________________________________________________________\n",
            "activation_1 (Activation)    (None, 14, 12, 16)        0         \n",
            "_________________________________________________________________\n",
            "max_pooling2d_1 (MaxPooling2 (None, 4, 3, 16)          0         \n",
            "_________________________________________________________________\n",
            "flatten (Flatten)            (None, 192)               0         \n",
            "_________________________________________________________________\n",
            "dense (Dense)                (None, 1024)              197632    \n",
            "_________________________________________________________________\n",
            "dense_1 (Dense)              (None, 512)               524800    \n",
            "_________________________________________________________________\n",
            "dense_2 (Dense)              (None, 256)               131328    \n",
            "_________________________________________________________________\n",
            "dense_3 (Dense)              (None, 20)                5140      \n",
            "=================================================================\n",
            "Total params: 859,564\n",
            "Trainable params: 859,564\n",
            "Non-trainable params: 0\n",
            "_________________________________________________________________\n"
          ]
        }
      ],
      "source": [
        "#set the shape and the regularizer to be applied\n",
        "INPUT_SHAPE = (X_train.shape[0],112,92,1)\n",
        "kernel_regularizer = tf.keras.regularizers.L2(l2=0.05)\n",
        "\n",
        "#call the convolutional model \n",
        "conv_model = convolutional_model(input_shape=INPUT_SHAPE,n_filters=8,kernel_size=4,strides=1,padding='same',units=1024,activation='relu',\n",
        "                                kernel_regularizer=kernel_regularizer)\n",
        "#compile the model\n",
        "conv_model.compile(optimizer='adam',\n",
        "                  loss='sparse_categorical_crossentropy',\n",
        "                  metrics=['accuracy'])\n",
        "conv_model.summary()"
      ]
    },
    {
      "cell_type": "markdown",
      "id": "1e1342d2",
      "metadata": {
        "papermill": {
          "duration": 0.054972,
          "end_time": "2021-07-18T12:28:51.103457",
          "exception": false,
          "start_time": "2021-07-18T12:28:51.048485",
          "status": "completed"
        },
        "tags": [],
        "id": "1e1342d2"
      },
      "source": [
        "<a name='5-2'></a>\n",
        "### _5.2 - Tentukan panggilan balik khusus_"
      ]
    },
    {
      "cell_type": "code",
      "execution_count": null,
      "id": "0329cc39",
      "metadata": {
        "execution": {
          "iopub.execute_input": "2021-07-18T12:28:51.221058Z",
          "iopub.status.busy": "2021-07-18T12:28:51.220317Z",
          "iopub.status.idle": "2021-07-18T12:28:51.222906Z",
          "shell.execute_reply": "2021-07-18T12:28:51.223495Z",
          "shell.execute_reply.started": "2021-07-18T12:27:04.440964Z"
        },
        "papermill": {
          "duration": 0.065493,
          "end_time": "2021-07-18T12:28:51.223687",
          "exception": false,
          "start_time": "2021-07-18T12:28:51.158194",
          "status": "completed"
        },
        "tags": [],
        "id": "0329cc39"
      },
      "outputs": [],
      "source": [
        "class MyQualityThreshold(tf.keras.callbacks.Callback):\n",
        "    def __init__(self,cl):\n",
        "        super(MyQualityThreshold, self).__init__()\n",
        "        self.cl = cl\n",
        "  \n",
        "    def on_epoch_end(self,epoch,logs=None):\n",
        "        testScore = logs['val_accuracy']\n",
        "        trainScore = logs['accuracy']\n",
        "\n",
        "        if testScore > self.cl:\n",
        "              self.model.stop_training=True"
      ]
    },
    {
      "cell_type": "markdown",
      "id": "0f6e658f",
      "metadata": {
        "papermill": {
          "duration": 0.054775,
          "end_time": "2021-07-18T12:28:51.333374",
          "exception": false,
          "start_time": "2021-07-18T12:28:51.278599",
          "status": "completed"
        },
        "tags": [],
        "id": "0f6e658f"
      },
      "source": [
        "<a name='5-3'></a>\n",
        "### _5.3 - Train the model_"
      ]
    },
    {
      "cell_type": "code",
      "execution_count": null,
      "id": "2e2989eb",
      "metadata": {
        "execution": {
          "iopub.execute_input": "2021-07-18T12:28:51.453223Z",
          "iopub.status.busy": "2021-07-18T12:28:51.452508Z",
          "iopub.status.idle": "2021-07-18T12:28:59.972722Z",
          "shell.execute_reply": "2021-07-18T12:28:59.972055Z",
          "shell.execute_reply.started": "2021-07-18T12:27:06.093101Z"
        },
        "papermill": {
          "duration": 8.584658,
          "end_time": "2021-07-18T12:28:59.972911",
          "exception": false,
          "start_time": "2021-07-18T12:28:51.388253",
          "status": "completed"
        },
        "tags": [],
        "id": "2e2989eb",
        "outputId": "3f7e3e6f-83df-4a99-e5e1-51944465db72"
      },
      "outputs": [
        {
          "name": "stdout",
          "output_type": "stream",
          "text": [
            "Epoch 1/100\n",
            "8/8 - 2s - loss: 68.9109 - accuracy: 0.0292 - val_loss: 57.4217 - val_accuracy: 0.0688\n",
            "Epoch 2/100\n",
            "8/8 - 1s - loss: 48.4708 - accuracy: 0.1750 - val_loss: 38.7577 - val_accuracy: 0.2375\n",
            "Epoch 3/100\n",
            "8/8 - 1s - loss: 35.2053 - accuracy: 0.2708 - val_loss: 31.2739 - val_accuracy: 0.2688\n",
            "Epoch 4/100\n",
            "8/8 - 1s - loss: 29.2863 - accuracy: 0.4375 - val_loss: 26.8228 - val_accuracy: 0.4750\n",
            "Epoch 5/100\n",
            "8/8 - 1s - loss: 25.1867 - accuracy: 0.6750 - val_loss: 23.4986 - val_accuracy: 0.6750\n",
            "Epoch 6/100\n",
            "8/8 - 1s - loss: 22.2305 - accuracy: 0.8125 - val_loss: 21.1128 - val_accuracy: 0.7250\n",
            "Epoch 7/100\n",
            "8/8 - 1s - loss: 20.0103 - accuracy: 0.9083 - val_loss: 19.2366 - val_accuracy: 0.8687\n",
            "Epoch 8/100\n",
            "8/8 - 1s - loss: 18.3734 - accuracy: 0.9750 - val_loss: 17.8730 - val_accuracy: 0.8625\n",
            "Epoch 9/100\n",
            "8/8 - 1s - loss: 17.1719 - accuracy: 0.9833 - val_loss: 16.8293 - val_accuracy: 0.8625\n",
            "Epoch 10/100\n",
            "8/8 - 1s - loss: 16.1952 - accuracy: 0.9958 - val_loss: 15.9831 - val_accuracy: 0.8938\n",
            "Epoch 11/100\n",
            "8/8 - 1s - loss: 15.3984 - accuracy: 0.9958 - val_loss: 15.2353 - val_accuracy: 0.9312\n"
          ]
        }
      ],
      "source": [
        "#fit the model\n",
        "history = conv_model.fit(X_train,y_train,epochs=100,validation_data=(X_test,y_test),verbose=2,\n",
        "                        callbacks=[MyQualityThreshold(0.92)],batch_size=32)"
      ]
    },
    {
      "cell_type": "markdown",
      "id": "46a6e2e1",
      "metadata": {
        "papermill": {
          "duration": 0.062038,
          "end_time": "2021-07-18T12:29:00.098185",
          "exception": false,
          "start_time": "2021-07-18T12:29:00.036147",
          "status": "completed"
        },
        "tags": [],
        "id": "46a6e2e1"
      },
      "source": [
        "<a name='5-4'></a>\n",
        "### _5.4 - Visualize Model Performance_"
      ]
    },
    {
      "cell_type": "code",
      "execution_count": null,
      "id": "5220d1cf",
      "metadata": {
        "execution": {
          "iopub.execute_input": "2021-07-18T12:29:00.235832Z",
          "iopub.status.busy": "2021-07-18T12:29:00.235151Z",
          "iopub.status.idle": "2021-07-18T12:29:00.258802Z",
          "shell.execute_reply": "2021-07-18T12:29:00.258162Z",
          "shell.execute_reply.started": "2021-07-18T12:27:16.233461Z"
        },
        "papermill": {
          "duration": 0.09879,
          "end_time": "2021-07-18T12:29:00.258988",
          "exception": false,
          "start_time": "2021-07-18T12:29:00.160198",
          "status": "completed"
        },
        "tags": [],
        "id": "5220d1cf",
        "outputId": "7c13965f-f283-461c-a66e-0aad70f2acf6"
      },
      "outputs": [
        {
          "data": {
            "text/html": [
              "<div>\n",
              "<style scoped>\n",
              "    .dataframe tbody tr th:only-of-type {\n",
              "        vertical-align: middle;\n",
              "    }\n",
              "\n",
              "    .dataframe tbody tr th {\n",
              "        vertical-align: top;\n",
              "    }\n",
              "\n",
              "    .dataframe thead th {\n",
              "        text-align: right;\n",
              "    }\n",
              "</style>\n",
              "<table border=\"1\" class=\"dataframe\">\n",
              "  <thead>\n",
              "    <tr style=\"text-align: right;\">\n",
              "      <th></th>\n",
              "      <th>loss</th>\n",
              "      <th>accuracy</th>\n",
              "      <th>val_loss</th>\n",
              "      <th>val_accuracy</th>\n",
              "    </tr>\n",
              "  </thead>\n",
              "  <tbody>\n",
              "    <tr>\n",
              "      <th>0</th>\n",
              "      <td>68.910942</td>\n",
              "      <td>0.029167</td>\n",
              "      <td>57.421715</td>\n",
              "      <td>0.06875</td>\n",
              "    </tr>\n",
              "    <tr>\n",
              "      <th>1</th>\n",
              "      <td>48.470757</td>\n",
              "      <td>0.175000</td>\n",
              "      <td>38.757702</td>\n",
              "      <td>0.23750</td>\n",
              "    </tr>\n",
              "    <tr>\n",
              "      <th>2</th>\n",
              "      <td>35.205284</td>\n",
              "      <td>0.270833</td>\n",
              "      <td>31.273916</td>\n",
              "      <td>0.26875</td>\n",
              "    </tr>\n",
              "    <tr>\n",
              "      <th>3</th>\n",
              "      <td>29.286291</td>\n",
              "      <td>0.437500</td>\n",
              "      <td>26.822788</td>\n",
              "      <td>0.47500</td>\n",
              "    </tr>\n",
              "    <tr>\n",
              "      <th>4</th>\n",
              "      <td>25.186655</td>\n",
              "      <td>0.675000</td>\n",
              "      <td>23.498615</td>\n",
              "      <td>0.67500</td>\n",
              "    </tr>\n",
              "  </tbody>\n",
              "</table>\n",
              "</div>"
            ],
            "text/plain": [
              "        loss  accuracy   val_loss  val_accuracy\n",
              "0  68.910942  0.029167  57.421715       0.06875\n",
              "1  48.470757  0.175000  38.757702       0.23750\n",
              "2  35.205284  0.270833  31.273916       0.26875\n",
              "3  29.286291  0.437500  26.822788       0.47500\n",
              "4  25.186655  0.675000  23.498615       0.67500"
            ]
          },
          "execution_count": 40,
          "metadata": {},
          "output_type": "execute_result"
        }
      ],
      "source": [
        "#create a dataframe of the model training history\n",
        "results = pd.DataFrame(history.history)\n",
        "results.head()"
      ]
    },
    {
      "cell_type": "code",
      "execution_count": null,
      "id": "04bf60ff",
      "metadata": {
        "execution": {
          "iopub.execute_input": "2021-07-18T12:29:00.387346Z",
          "iopub.status.busy": "2021-07-18T12:29:00.386631Z",
          "iopub.status.idle": "2021-07-18T12:29:00.617397Z",
          "shell.execute_reply": "2021-07-18T12:29:00.617891Z",
          "shell.execute_reply.started": "2021-07-18T12:27:16.250725Z"
        },
        "papermill": {
          "duration": 0.296866,
          "end_time": "2021-07-18T12:29:00.618099",
          "exception": false,
          "start_time": "2021-07-18T12:29:00.321233",
          "status": "completed"
        },
        "tags": [],
        "id": "04bf60ff",
        "outputId": "e192829c-5cf5-4e02-f33d-482499981c92"
      },
      "outputs": [
        {
          "data": {
            "image/png": "[encoded data removed]",
            "text/plain": [
              "<Figure size 864x360 with 1 Axes>"
            ]
          },
          "metadata": {
            "needs_background": "light"
          },
          "output_type": "display_data"
        }
      ],
      "source": [
        "#plot the accuracy over the training and test set\n",
        "results[['accuracy','val_accuracy']].plot()\n",
        "plt.title('Model Accuracy Plot')\n",
        "plt.xlabel('Epochs')\n",
        "plt.ylabel('Accuracy')\n",
        "plt.grid()\n",
        "plt.show()"
      ]
    },
    {
      "cell_type": "code",
      "execution_count": null,
      "id": "30c8e099",
      "metadata": {
        "execution": {
          "iopub.execute_input": "2021-07-18T12:29:00.774827Z",
          "iopub.status.busy": "2021-07-18T12:29:00.752757Z",
          "iopub.status.idle": "2021-07-18T12:29:00.946729Z",
          "shell.execute_reply": "2021-07-18T12:29:00.946070Z",
          "shell.execute_reply.started": "2021-07-18T12:27:16.436961Z"
        },
        "papermill": {
          "duration": 0.26452,
          "end_time": "2021-07-18T12:29:00.946902",
          "exception": false,
          "start_time": "2021-07-18T12:29:00.682382",
          "status": "completed"
        },
        "tags": [],
        "id": "30c8e099",
        "outputId": "3637df25-0ce4-4228-9dac-3d4b8cc4e21f"
      },
      "outputs": [
        {
          "data": {
            "image/png": "[encoded data removed]",
            "text/plain": [
              "<Figure size 864x360 with 1 Axes>"
            ]
          },
          "metadata": {
            "needs_background": "light"
          },
          "output_type": "display_data"
        }
      ],
      "source": [
        "#plot the loss over the training and test set\n",
        "results[['loss','val_loss']].plot()\n",
        "plt.title('Model Loss Plot')\n",
        "plt.xlabel('Epochs')\n",
        "plt.ylabel('Loss')\n",
        "plt.grid()\n",
        "plt.show()"
      ]
    },
    {
      "cell_type": "markdown",
      "source": [
        "**TERIMA KASIH**"
      ],
      "metadata": {
        "id": "sBuDJZRLw5Dx"
      },
      "id": "sBuDJZRLw5Dx"
    }
  ],
  "metadata": {
    "kernelspec": {
      "display_name": "Python 3",
      "language": "python",
      "name": "python3"
    },
    "language_info": {
      "codemirror_mode": {
        "name": "ipython",
        "version": 3
      },
      "file_extension": ".py",
      "mimetype": "text/x-python",
      "name": "python",
      "nbconvert_exporter": "python",
      "pygments_lexer": "ipython3",
      "version": "3.7.10"
    },
    "papermill": {
      "default_parameters": {},
      "duration": 58.927729,
      "end_time": "2021-07-18T12:29:03.612251",
      "environment_variables": {},
      "exception": null,
      "input_path": "__notebook__.ipynb",
      "output_path": "__notebook__.ipynb",
      "parameters": {},
      "start_time": "2021-07-18T12:28:04.684522",
      "version": "2.3.3"
    },
    "colab": {
      "provenance": []
    }
  },
  "nbformat": 4,
  "nbformat_minor": 5
}